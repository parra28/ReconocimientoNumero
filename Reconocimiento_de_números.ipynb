{
  "nbformat": 4,
  "nbformat_minor": 0,
  "metadata": {
    "colab": {
      "name": "Reconocimiento de números.ipynb",
      "provenance": [],
      "collapsed_sections": [],
      "include_colab_link": true
    },
    "kernelspec": {
      "name": "python3",
      "display_name": "Python 3"
    },
    "language_info": {
      "name": "python"
    }
  },
  "cells": [
    {
      "cell_type": "markdown",
      "metadata": {
        "id": "view-in-github",
        "colab_type": "text"
      },
      "source": [
        "<a href=\"https://colab.research.google.com/github/parra28/ReconocimientoNumero/blob/master/Reconocimiento_de_n%C3%BAmeros.ipynb\" target=\"_parent\"><img src=\"https://colab.research.google.com/assets/colab-badge.svg\" alt=\"Open In Colab\"/></a>"
      ]
    },
    {
      "cell_type": "markdown",
      "metadata": {
        "id": "UOpDShN1SODr"
      },
      "source": [
        "## **Flujo de trabajo típico del Machine Learning**\n",
        "La creación de algoritmos de machine learning sigue siempre la misma estructura: \n",
        "\n",
        "\n",
        "*   Identificar el problema\n",
        "*   Identificar el algoritmo adecuado para resolver el problema\n",
        "*   Recoger suficiente información de **CALIDAD** \n",
        "*   Entrenar el modelo\n",
        "*   Exportar el modelo a un entorno de producción\n",
        "\n",
        "Hoy vamos a crear un modelo simple para reconocer números escritos a mano.\n",
        "\n",
        "\n"
      ]
    },
    {
      "cell_type": "markdown",
      "metadata": {
        "id": "2e-In8nMTm3G"
      },
      "source": [
        "##**FASE 1: Identificar el problema**\n",
        "Si pensamos en frio, el problema no es más que una simple clasificación de imágenes. Tenemos que crear un modelo que se alimente a partir de una imagen y nos devuelva la probabilidad de que la imagen que hemos aliementado coincida con una de las categorías que nosotros hemos decidido.\n"
      ]
    },
    {
      "cell_type": "markdown",
      "metadata": {
        "id": "bPpqiFq8V8a-"
      },
      "source": [
        "##**FASE 2: Elección del algoritmo**\n",
        "Los algoritmos por excelencia para la clasificación son las Deep Neural Networks (DNNs). \n",
        "\n",
        "La metodología consiste en crear un modelo con unas constantes que, en base a un input, sea capaz de identificar en qué categoría se clasifica. Lo más complicado es el ajuste del modelo, donde debemos identificar qué constantes aproximan mejor la realidad.\n",
        "\n",
        "Para obtener estas constantes debememos \"enseñar\" a nuestro modelo qué está bien y qué está mal (de ahí lo de Machine Learning). \n",
        "\n",
        "Ahí es donde entra la parte de recoger información de CALIDAD. Contra mejor sea la muestra, mejor va a ser el ajuste."
      ]
    },
    {
      "cell_type": "markdown",
      "metadata": {
        "id": "HetdAKKCYCbH"
      },
      "source": [
        "##**FASE 3: Entrenamiento del modelo**\n",
        "Importamos los módulos necesarios para entrenar y crear el algoritmo que sea capaz de reconocer los números."
      ]
    },
    {
      "cell_type": "code",
      "metadata": {
        "id": "sZYZKZmiRJjK"
      },
      "source": [
        "import cv2 as cv\n",
        "from google.colab.patches import cv2_imshow\n",
        "import numpy as np #Librería específica para hacer operaciones vectoriales\n",
        "import tensorflow as tf"
      ],
      "execution_count": null,
      "outputs": []
    },
    {
      "cell_type": "markdown",
      "metadata": {
        "id": "dA_9AeXOSFOW"
      },
      "source": [
        "Una vez importadas los módulos, importaremos la base de datos con los números escritos a mano y con su respectiva categorización."
      ]
    },
    {
      "cell_type": "code",
      "metadata": {
        "id": "GUxjaVAUYaee",
        "colab": {
          "base_uri": "https://localhost:8080/"
        },
        "outputId": "e6e2a445-a167-4459-c288-6ba90231cdcb"
      },
      "source": [
        "mnist = tf.keras.datasets.mnist\n",
        "(xTrain, yTrain),(xTest, yTest) = mnist.load_data()"
      ],
      "execution_count": null,
      "outputs": [
        {
          "output_type": "stream",
          "text": [
            "Downloading data from https://storage.googleapis.com/tensorflow/tf-keras-datasets/mnist.npz\n",
            "11493376/11490434 [==============================] - 0s 0us/step\n"
          ],
          "name": "stdout"
        }
      ]
    },
    {
      "cell_type": "markdown",
      "metadata": {
        "id": "CzeCJKbBbjia"
      },
      "source": [
        "Ahora veamos a ver qué pinta tiene esto:"
      ]
    },
    {
      "cell_type": "code",
      "metadata": {
        "id": "T16jP6aUYgy4",
        "colab": {
          "base_uri": "https://localhost:8080/",
          "height": 261
        },
        "outputId": "8977cb5d-6b5f-44fc-923b-a163aa2e33dd"
      },
      "source": [
        "print(f\"Vamos a utilizar {xTrain.shape[0]} imágenes para entrenar nuestro modelo y {xTest.shape[0]} para validarlo\")\n",
        "for i, img in enumerate(xTrain[:5]):\n",
        "  cv2_imshow(img)\n",
        "  print(yTrain[i]) \n"
      ],
      "execution_count": null,
      "outputs": [
        {
          "output_type": "stream",
          "text": [
            "Vamos a utilizar 60000 imágenes para entrenar nuestro modelo y 10000 para validarlo\n"
          ],
          "name": "stdout"
        },
        {
          "output_type": "display_data",
          "data": {
            "image/png": "[encoded data removed]",
            "text/plain": [
              "<PIL.Image.Image image mode=L size=28x28 at 0x7FC080067090>"
            ]
          },
          "metadata": {
            "tags": []
          }
        },
        {
          "output_type": "stream",
          "text": [
            "5\n"
          ],
          "name": "stdout"
        },
        {
          "output_type": "display_data",
          "data": {
            "image/png": "[encoded data removed]",
            "text/plain": [
              "<PIL.Image.Image image mode=L size=28x28 at 0x7FC038D66F50>"
            ]
          },
          "metadata": {
            "tags": []
          }
        },
        {
          "output_type": "stream",
          "text": [
            "0\n"
          ],
          "name": "stdout"
        },
        {
          "output_type": "display_data",
          "data": {
            "image/png": "[encoded data removed]",
            "text/plain": [
              "<PIL.Image.Image image mode=L size=28x28 at 0x7FC080065250>"
            ]
          },
          "metadata": {
            "tags": []
          }
        },
        {
          "output_type": "stream",
          "text": [
            "4\n"
          ],
          "name": "stdout"
        },
        {
          "output_type": "display_data",
          "data": {
            "image/png": "[encoded data removed]",
            "text/plain": [
              "<PIL.Image.Image image mode=L size=28x28 at 0x7FC038D66550>"
            ]
          },
          "metadata": {
            "tags": []
          }
        },
        {
          "output_type": "stream",
          "text": [
            "1\n"
          ],
          "name": "stdout"
        },
        {
          "output_type": "display_data",
          "data": {
            "image/png": "[encoded data removed]",
            "text/plain": [
              "<PIL.Image.Image image mode=L size=28x28 at 0x7FC038D66550>"
            ]
          },
          "metadata": {
            "tags": []
          }
        },
        {
          "output_type": "stream",
          "text": [
            "9\n"
          ],
          "name": "stdout"
        }
      ]
    },
    {
      "cell_type": "markdown",
      "metadata": {
        "id": "khn8mNekcqUV"
      },
      "source": [
        "Ahora tenemos que normalizar los datos (tenemos que trabajar con 1s y 0s)"
      ]
    },
    {
      "cell_type": "code",
      "metadata": {
        "colab": {
          "base_uri": "https://localhost:8080/",
          "height": 91
        },
        "id": "7RmK2U8GcpHX",
        "outputId": "2f7bf6f1-f6f9-4346-e33c-64cc66117028"
      },
      "source": [
        "xTrain, xTest = tf.keras.utils.normalize(xTrain, axis=1), tf.keras.utils.normalize(xTest, axis=1)\n",
        "cv2_imshow(xTrain[0]) #El aspecto que tiene normalizado. \n",
        "cv2_imshow(xTrain[0]*255) #Si lo medio rescatamos.\n",
        "print((xTrain.shape[1:]))"
      ],
      "execution_count": null,
      "outputs": [
        {
          "output_type": "display_data",
          "data": {
            "image/png": "[encoded data removed]",
            "text/plain": [
              "<PIL.Image.Image image mode=L size=28x28 at 0x7FC038D57050>"
            ]
          },
          "metadata": {
            "tags": []
          }
        },
        {
          "output_type": "display_data",
          "data": {
            "image/png": "[encoded data removed]",
            "text/plain": [
              "<PIL.Image.Image image mode=L size=28x28 at 0x7FC080067950>"
            ]
          },
          "metadata": {
            "tags": []
          }
        },
        {
          "output_type": "stream",
          "text": [
            "(28, 28)\n"
          ],
          "name": "stdout"
        }
      ]
    },
    {
      "cell_type": "markdown",
      "metadata": {
        "id": "15i7c7GneH35"
      },
      "source": [
        "Definamos el modelo:\n"
      ]
    },
    {
      "cell_type": "code",
      "metadata": {
        "id": "zx3kY3FLeMOr"
      },
      "source": [
        "model = tf.keras.models.Sequential() #Una DNN básica\n",
        "model.add(tf.keras.layers.Flatten(input_shape=(xTrain.shape[1:]))) #Definimos las dimensiones de la matriz que alimentamos al sistema\n",
        "model.add(tf.keras.layers.Dense(units=128, activation=tf.nn.relu)) #Rectify linear unit if (x < 0) -> x = 0; else x = x\n",
        "model.add(tf.keras.layers.Dense(units=128, activation=tf.nn.relu)) #Rectify linear unit if (x < 0) -> x = 0; else x = x\n",
        "model.add(tf.keras.layers.Dropout(0.5))\n",
        "model.add(tf.keras.layers.Dense(units=10, activation=tf.nn.softmax)) #Probabilidades de 0-1 por cada categoría\n",
        "model.compile(optimizer=\"adam\", loss=\"sparse_categorical_crossentropy\", metrics=[\"accuracy\"])"
      ],
      "execution_count": null,
      "outputs": []
    },
    {
      "cell_type": "markdown",
      "metadata": {
        "id": "Nt8MXBMTgYqB"
      },
      "source": [
        "Una vez tenemos definido el modelo pasamos a entrenarlo con las imagenes que hemos decidido destinar al entrenamiento"
      ]
    },
    {
      "cell_type": "code",
      "metadata": {
        "colab": {
          "base_uri": "https://localhost:8080/"
        },
        "id": "1UDREJLhgf1E",
        "outputId": "03a1781d-6367-4715-bb48-0e812c641d1d"
      },
      "source": [
        "model.fit(xTrain, yTrain, epochs=3)\n",
        "loss, accuracy = model.evaluate(xTest, yTest)\n",
        "print(f\"La precisión de nuestro modelo es del {accuracy*100}\")"
      ],
      "execution_count": null,
      "outputs": [
        {
          "output_type": "stream",
          "text": [
            "Epoch 1/3\n",
            "1875/1875 [==============================] - 5s 2ms/step - loss: 0.3508 - accuracy: 0.8968\n",
            "Epoch 2/3\n",
            "1875/1875 [==============================] - 5s 2ms/step - loss: 0.1476 - accuracy: 0.9565\n",
            "Epoch 3/3\n",
            "1875/1875 [==============================] - 4s 2ms/step - loss: 0.1022 - accuracy: 0.9698\n",
            "313/313 [==============================] - 1s 1ms/step - loss: 0.1012 - accuracy: 0.9696\n",
            "La precisión de nuestro modelo es del 96.96000218391418\n"
          ],
          "name": "stdout"
        }
      ]
    },
    {
      "cell_type": "markdown",
      "metadata": {
        "id": "vCds_NxOixeC"
      },
      "source": [
        "Ahora pongamos a prueba a nuestro modelo. Para ello vamos a dibujar un número en paint y vamos a alimentarselo a nuestro modelo.\n"
      ]
    },
    {
      "cell_type": "code",
      "metadata": {
        "colab": {
          "base_uri": "https://localhost:8080/",
          "height": 420
        },
        "id": "F4a-ddzyi7XO",
        "outputId": "0f8b6f83-42f0-485e-dfdd-8135147aa0bd"
      },
      "source": [
        "for i in range(9):\n",
        "  img = np.array([xTrain[i]])\n",
        "  cv2_imshow(img[0]*255)\n",
        "  prediction = model.predict(img)\n",
        "  print(f\"Has dibujado un {np.argmax(prediction)}\")"
      ],
      "execution_count": null,
      "outputs": [
        {
          "output_type": "display_data",
          "data": {
            "image/png": "[encoded data removed]",
            "text/plain": [
              "<PIL.Image.Image image mode=L size=28x28 at 0x7FB92A22C110>"
            ]
          },
          "metadata": {
            "tags": []
          }
        },
        {
          "output_type": "stream",
          "text": [
            "Has dibujado un 5\n"
          ],
          "name": "stdout"
        },
        {
          "output_type": "display_data",
          "data": {
            "image/png": "[encoded data removed]",
            "text/plain": [
              "<PIL.Image.Image image mode=L size=28x28 at 0x7FB92AB64B50>"
            ]
          },
          "metadata": {
            "tags": []
          }
        },
        {
          "output_type": "stream",
          "text": [
            "Has dibujado un 0\n"
          ],
          "name": "stdout"
        },
        {
          "output_type": "display_data",
          "data": {
            "image/png": "[encoded data removed]",
            "text/plain": [
              "<PIL.Image.Image image mode=L size=28x28 at 0x7FB92AB645D0>"
            ]
          },
          "metadata": {
            "tags": []
          }
        },
        {
          "output_type": "stream",
          "text": [
            "Has dibujado un 4\n"
          ],
          "name": "stdout"
        },
        {
          "output_type": "display_data",
          "data": {
            "image/png": "[encoded data removed]",
            "text/plain": [
              "<PIL.Image.Image image mode=L size=28x28 at 0x7FB92AB0F2D0>"
            ]
          },
          "metadata": {
            "tags": []
          }
        },
        {
          "output_type": "stream",
          "text": [
            "Has dibujado un 1\n"
          ],
          "name": "stdout"
        },
        {
          "output_type": "display_data",
          "data": {
            "image/png": "[encoded data removed]",
            "text/plain": [
              "<PIL.Image.Image image mode=L size=28x28 at 0x7FB92B3B4950>"
            ]
          },
          "metadata": {
            "tags": []
          }
        },
        {
          "output_type": "stream",
          "text": [
            "Has dibujado un 9\n"
          ],
          "name": "stdout"
        },
        {
          "output_type": "display_data",
          "data": {
            "image/png": "[encoded data removed]",
            "text/plain": [
              "<PIL.Image.Image image mode=L size=28x28 at 0x7FB92AB56B10>"
            ]
          },
          "metadata": {
            "tags": []
          }
        },
        {
          "output_type": "stream",
          "text": [
            "Has dibujado un 2\n"
          ],
          "name": "stdout"
        },
        {
          "output_type": "display_data",
          "data": {
            "image/png": "[encoded data removed]",
            "text/plain": [
              "<PIL.Image.Image image mode=L size=28x28 at 0x7FB92AB56750>"
            ]
          },
          "metadata": {
            "tags": []
          }
        },
        {
          "output_type": "stream",
          "text": [
            "Has dibujado un 1\n"
          ],
          "name": "stdout"
        },
        {
          "output_type": "display_data",
          "data": {
            "image/png": "[encoded data removed]",
            "text/plain": [
              "<PIL.Image.Image image mode=L size=28x28 at 0x7FB92AB36690>"
            ]
          },
          "metadata": {
            "tags": []
          }
        },
        {
          "output_type": "stream",
          "text": [
            "Has dibujado un 3\n"
          ],
          "name": "stdout"
        },
        {
          "output_type": "display_data",
          "data": {
            "image/png": "[encoded data removed]",
            "text/plain": [
              "<PIL.Image.Image image mode=L size=28x28 at 0x7FB92A216910>"
            ]
          },
          "metadata": {
            "tags": []
          }
        },
        {
          "output_type": "stream",
          "text": [
            "Has dibujado un 1\n"
          ],
          "name": "stdout"
        }
      ]
    }
  ]
}